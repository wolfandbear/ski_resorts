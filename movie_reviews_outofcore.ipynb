{
 "cells": [
  {
   "cell_type": "code",
   "execution_count": 1,
   "id": "1cd798fe-65ea-4ec7-9aff-3c5836ec643e",
   "metadata": {},
   "outputs": [],
   "source": [
    "#Train a logistic regression model (using partial fit and hashing vectorizer)\n",
    "#serialize/save the model in a pickle file\n",
    "#write an sqlite database\n",
    "#based on Python Machine Learning Book"
   ]
  },
  {
   "cell_type": "code",
   "execution_count": 2,
   "id": "edb50181-a431-4e55-9752-2c2b1bbdb156",
   "metadata": {},
   "outputs": [
    {
     "data": {
      "text/html": [
       "<div>\n",
       "<style scoped>\n",
       "    .dataframe tbody tr th:only-of-type {\n",
       "        vertical-align: middle;\n",
       "    }\n",
       "\n",
       "    .dataframe tbody tr th {\n",
       "        vertical-align: top;\n",
       "    }\n",
       "\n",
       "    .dataframe thead th {\n",
       "        text-align: right;\n",
       "    }\n",
       "</style>\n",
       "<table border=\"1\" class=\"dataframe\">\n",
       "  <thead>\n",
       "    <tr style=\"text-align: right;\">\n",
       "      <th></th>\n",
       "      <th>review</th>\n",
       "      <th>sentiment</th>\n",
       "    </tr>\n",
       "  </thead>\n",
       "  <tbody>\n",
       "    <tr>\n",
       "      <th>0</th>\n",
       "      <td>In 1974, the teenager Martha Moxley (Maggie Gr...</td>\n",
       "      <td>1</td>\n",
       "    </tr>\n",
       "    <tr>\n",
       "      <th>1</th>\n",
       "      <td>OK... so... I really like Kris Kristofferson a...</td>\n",
       "      <td>0</td>\n",
       "    </tr>\n",
       "    <tr>\n",
       "      <th>2</th>\n",
       "      <td>***SPOILER*** Do not read this, if you think a...</td>\n",
       "      <td>0</td>\n",
       "    </tr>\n",
       "  </tbody>\n",
       "</table>\n",
       "</div>"
      ],
      "text/plain": [
       "                                              review  sentiment\n",
       "0  In 1974, the teenager Martha Moxley (Maggie Gr...          1\n",
       "1  OK... so... I really like Kris Kristofferson a...          0\n",
       "2  ***SPOILER*** Do not read this, if you think a...          0"
      ]
     },
     "execution_count": 2,
     "metadata": {},
     "output_type": "execute_result"
    }
   ],
   "source": [
    "#import movie review data\n",
    "\n",
    "import pandas as pd\n",
    "df = pd.read_csv('movie_data.csv', encoding='utf-8')\n",
    "df = df.rename(columns={\"0\": \"review\", \"1\": \"sentiment\"})\n",
    "\n",
    "df.head(3)"
   ]
  },
  {
   "cell_type": "code",
   "execution_count": 3,
   "id": "d200e2f6-530a-45af-94b4-ffbc163f633d",
   "metadata": {},
   "outputs": [],
   "source": [
    "#bag of words concepts\n",
    "#transform sentences into bag of words vocabulary and sparse vectors\n",
    "#call fit_transform on the count vectorizer\n",
    "\n",
    "import numpy as np\n",
    "import re\n",
    "from nltk.corpus import stopwords\n",
    "\n",
    "stop = stopwords.words('english')\n",
    "\n",
    "def tokenizer(text):\n",
    "    text = re.sub('<[^>]*>', '', text)\n",
    "    emoticons = re.findall('(?::|;|=)(?:-)?(?:\\)|\\(|D|P)', text.lower())\n",
    "    text = re.sub('[\\W]+', ' ', text.lower()) +\\\n",
    "        ' '.join(emoticons).replace('-', '')\n",
    "    tokenized = [w for w in text.split() if w not in stop]\n",
    "    return tokenized\n",
    "\n",
    "#reads and returns one movie review at a time\n",
    "def stream_docs(path):\n",
    "    with open(path, 'r', encoding='utf-8') as csv:\n",
    "        next(csv)  # skip header\n",
    "        for line in csv:\n",
    "            text, label = line[:-3], int(line[-2])\n",
    "            yield text, label"
   ]
  },
  {
   "cell_type": "code",
   "execution_count": 4,
   "id": "5b0a1dfe-61b6-4630-a9d7-95f05c7e4919",
   "metadata": {},
   "outputs": [
    {
     "data": {
      "text/plain": [
       "('\"In 1974, the teenager Martha Moxley (Maggie Grace) moves to the high-class area of Belle Haven, Greenwich, Connecticut. On the Mischief Night, eve of Halloween, she was murdered in the backyard of her house and her murder remained unsolved. Twenty-two years later, the writer Mark Fuhrman (Christopher Meloni), who is a former LA detective that has fallen in disgrace for perjury in O.J. Simpson trial and moved to Idaho, decides to investigate the case with his partner Stephen Weeks (Andrew Mitchell) with the purpose of writing a book. The locals squirm and do not welcome them, but with the support of the retired detective Steve Carroll (Robert Forster) that was in charge of the investigation in the 70\\'s, they discover the criminal and a net of power and money to cover the murder.<br /><br />\"\"Murder in Greenwich\"\" is a good TV movie, with the true story of a murder of a fifteen years old girl that was committed by a wealthy teenager whose mother was a Kennedy. The powerful and rich family used their influence to cover the murder for more than twenty years. However, a snoopy detective and convicted perjurer in disgrace was able to disclose how the hideous crime was committed. The screenplay shows the investigation of Mark and the last days of Martha in parallel, but there is a lack of the emotion in the dramatization. My vote is seven.<br /><br />Title (Brazil): Not Available\"',\n",
       " 1)"
      ]
     },
     "execution_count": 4,
     "metadata": {},
     "output_type": "execute_result"
    }
   ],
   "source": [
    "#test stream_docs, next(stream...) returns the text of the review\n",
    "next(stream_docs(path='movie_data.csv'))"
   ]
  },
  {
   "cell_type": "code",
   "execution_count": 5,
   "id": "dce2ab28-30ab-469d-b15b-ea72c5838a68",
   "metadata": {},
   "outputs": [],
   "source": [
    "#returns a specific number of docs (size) from the doc stream\n",
    "def get_minibatch(doc_stream, size):\n",
    "    docs, y = [], []\n",
    "    try:\n",
    "        for _ in range(size):\n",
    "            text, label = next(doc_stream)\n",
    "            docs.append(text)\n",
    "            y.append(label)\n",
    "    except StopIteration:\n",
    "        return None, None\n",
    "    return docs, y"
   ]
  },
  {
   "cell_type": "code",
   "execution_count": 18,
   "id": "38bf6366-4f72-4116-99f8-7ceaf47cc5a6",
   "metadata": {},
   "outputs": [],
   "source": [
    "#in out of core learning, cannot use count vectorizer or tfidvectorizer\n",
    "#so we use \"hashing vectorizer\"\n",
    "\n",
    "from sklearn.feature_extraction.text import HashingVectorizer\n",
    "from sklearn.linear_model import SGDClassifier\n",
    "\n",
    "\n",
    "vect = HashingVectorizer(decode_error='ignore', \n",
    "                         n_features=2**21,\n",
    "                         preprocessor=None, \n",
    "                         tokenizer=tokenizer) #using tokenizer from above"
   ]
  },
  {
   "cell_type": "code",
   "execution_count": 9,
   "id": "c913c37b-e442-4bc5-9d0c-85523a1b473f",
   "metadata": {},
   "outputs": [],
   "source": [
    "#in out of core learning using the SGDClassifier \n",
    "#from sklearn where we can apply partial_fit\n",
    "#(not logistic regression from sklearn)\n",
    "\n",
    "from distutils.version import LooseVersion as Version\n",
    "from sklearn import __version__ as sklearn_version\n",
    "\n",
    "clf = SGDClassifier(loss='log', random_state=1)\n",
    "doc_stream = stream_docs(path='movie_data.csv')"
   ]
  },
  {
   "cell_type": "code",
   "execution_count": 10,
   "id": "e69616f9-3240-4d50-9fc1-5e73768ba544",
   "metadata": {},
   "outputs": [
    {
     "name": "stderr",
     "output_type": "stream",
     "text": [
      "0% [##############################] 100% | ETA: 00:00:00\n",
      "Total time elapsed: 00:00:23\n"
     ]
    }
   ],
   "source": [
    "#train the classifier in batches\n",
    "\n",
    "import pyprind\n",
    "pbar = pyprind.ProgBar(45)\n",
    "\n",
    "classes = np.array([0, 1])\n",
    "for _ in range(45):\n",
    "    X_train, y_train = get_minibatch(doc_stream, size=1000)\n",
    "    if not X_train:\n",
    "        break\n",
    "    X_train = vect.transform(X_train) #apply the hashing vectorizer from above\n",
    "    clf.partial_fit(X_train, y_train, classes=classes) #fit\n",
    "    pbar.update()"
   ]
  },
  {
   "cell_type": "code",
   "execution_count": 11,
   "id": "1843f878-db72-4395-a98e-c39f964f06f3",
   "metadata": {},
   "outputs": [
    {
     "name": "stdout",
     "output_type": "stream",
     "text": [
      "Accuracy: 0.868\n"
     ]
    }
   ],
   "source": [
    "X_test, y_test = get_minibatch(doc_stream, size=5000)\n",
    "X_test = vect.transform(X_test) #apply the hashing vectorizer from above\n",
    "print(f'Accuracy: {clf.score(X_test, y_test):.3f}')"
   ]
  },
  {
   "cell_type": "code",
   "execution_count": 13,
   "id": "21306a65-2ea3-4664-94c8-886a689201ee",
   "metadata": {},
   "outputs": [],
   "source": [
    "#create a pickle file to save classifier in current state\n",
    "#to serialize/deserialize python object structures\n",
    "\n",
    "import pickle\n",
    "import os\n",
    "\n",
    "#create folder, make if doesn't exist\n",
    "dest = os.path.join('movieclassifier', 'pkl_objects')\n",
    "if not os.path.exists(dest):\n",
    "    os.makedirs(dest)"
   ]
  },
  {
   "cell_type": "code",
   "execution_count": 14,
   "id": "9e2f74bf-30c1-483e-b3bf-7fe952a05f37",
   "metadata": {},
   "outputs": [],
   "source": [
    "#dump the stopwords into a pickle file\n",
    "pickle.dump(stop, open(os.path.join(dest, 'stopwords.pkl'),'wb'),protocol=4)"
   ]
  },
  {
   "cell_type": "code",
   "execution_count": 15,
   "id": "3c7132a1-7d0f-419d-a1d7-c80385e600d0",
   "metadata": {},
   "outputs": [],
   "source": [
    "#dump the classifier into a pickle file\n",
    "pickle.dump(clf,open(os.path.join(dest,'classifier.pkl'),'wb'),protocol=4)"
   ]
  },
  {
   "cell_type": "code",
   "execution_count": 16,
   "id": "b5d7667f-ff24-4daf-906e-87365ba2d84b",
   "metadata": {},
   "outputs": [],
   "source": [
    "#test pickl file\n",
    "\n",
    "import os\n",
    "os.chdir('movieclassifier')"
   ]
  },
  {
   "cell_type": "code",
   "execution_count": 17,
   "id": "f368567b-eda4-4e28-8a02-b7ecdc8c37a1",
   "metadata": {},
   "outputs": [],
   "source": [
    "import pickle\n",
    "import re\n",
    "import os\n",
    "from vectorizer import vect\n",
    "\n",
    "clf2 = pickle.load(open(os.path.join('pkl_objects', 'classifier.pkl'), 'rb'))"
   ]
  },
  {
   "cell_type": "code",
   "execution_count": 18,
   "id": "8905e87b-0ae0-4721-9991-ea863936e684",
   "metadata": {},
   "outputs": [
    {
     "data": {
      "text/plain": [
       "SGDClassifier(loss='log', random_state=1)"
      ]
     },
     "execution_count": 18,
     "metadata": {},
     "output_type": "execute_result"
    }
   ],
   "source": [
    "clf2"
   ]
  },
  {
   "cell_type": "code",
   "execution_count": 19,
   "id": "7867fd46-5313-4511-b9e4-89c2c777ea0b",
   "metadata": {},
   "outputs": [
    {
     "name": "stdout",
     "output_type": "stream",
     "text": [
      "Prediction: positive\n",
      "Probability: 95.55%\n"
     ]
    }
   ],
   "source": [
    "import numpy as np\n",
    "label = {0:'negative', 1:'positive'}\n",
    "\n",
    "example = [\"I love this movie. It's amazing.\"]\n",
    "\n",
    "X = vect.transform(example)\n",
    "print('Prediction: %s\\nProbability: %.2f%%' %\\\n",
    "      (label[clf2.predict(X)[0]], \n",
    "       np.max(clf2.predict_proba(X))*100))\n"
   ]
  },
  {
   "cell_type": "code",
   "execution_count": 22,
   "id": "cbfec6d4-6702-40d5-85fe-0c8dcb30316e",
   "metadata": {},
   "outputs": [],
   "source": [
    "#create new sqlite db\n",
    "\n",
    "import sqlite3\n",
    "import os\n",
    "\n",
    "conn = sqlite3.connect('reviews.sqlite')\n",
    "c = conn.cursor()\n",
    "\n",
    "c.execute('DROP TABLE IF EXISTS review_db')\n",
    "c.execute('CREATE TABLE review_db (review TEXT, sentiment INTEGER, date TEXT)')\n",
    "\n",
    "example1 = 'I love this movie'\n",
    "c.execute(\"INSERT INTO review_db (review, sentiment, date) VALUES (?, ?, DATETIME('now'))\", (example1, 1))\n",
    "\n",
    "example2 = 'I disliked this movie'\n",
    "c.execute(\"INSERT INTO review_db (review, sentiment, date) VALUES (?, ?, DATETIME('now'))\", (example2, 0))\n",
    "\n",
    "conn.commit()\n",
    "conn.close()"
   ]
  },
  {
   "cell_type": "code",
   "execution_count": 23,
   "id": "d742daa5-3d3c-4a26-beb7-2042a7bb6fa2",
   "metadata": {},
   "outputs": [],
   "source": [
    "#test connection to sqlite database\n",
    "conn = sqlite3.connect('reviews.sqlite')\n",
    "c = conn.cursor()\n",
    "\n",
    "c.execute(\"SELECT * FROM review_db WHERE date BETWEEN '2017-01-01 10:10:10' AND DATETIME('now')\")\n",
    "results = c.fetchall()\n",
    "\n",
    "conn.close()"
   ]
  },
  {
   "cell_type": "code",
   "execution_count": 24,
   "id": "2e8690e9-0b5f-4ab9-9d7d-055b0f387ce9",
   "metadata": {},
   "outputs": [
    {
     "name": "stdout",
     "output_type": "stream",
     "text": [
      "[('I love this movie', 1, '2022-01-17 16:40:34'), ('I disliked this movie', 0, '2022-01-17 16:40:34')]\n"
     ]
    }
   ],
   "source": [
    "print(results)"
   ]
  },
  {
   "cell_type": "code",
   "execution_count": null,
   "id": "79f20391-4515-4200-8a32-d91f188c25ef",
   "metadata": {},
   "outputs": [],
   "source": []
  },
  {
   "cell_type": "code",
   "execution_count": null,
   "id": "6b7461ea-ca26-480f-b8f4-445ac5c9f289",
   "metadata": {},
   "outputs": [],
   "source": []
  },
  {
   "cell_type": "code",
   "execution_count": null,
   "id": "0ed9f55a-06a5-4a1f-a0e6-feabf050881e",
   "metadata": {},
   "outputs": [],
   "source": [
    "#run this movie review trained model on twitter data as this data had emoticons\n",
    "#later replace model with twitter trained model"
   ]
  },
  {
   "cell_type": "code",
   "execution_count": 9,
   "id": "84951486-5eab-41a2-ad0c-edc6de8d6c55",
   "metadata": {},
   "outputs": [],
   "source": [
    "import os\n",
    "import tweepy as tweepy\n",
    "import pandas as pd"
   ]
  },
  {
   "cell_type": "code",
   "execution_count": 117,
   "id": "1732843b-5b97-47c4-a79a-62073e9a25c8",
   "metadata": {},
   "outputs": [],
   "source": [
    "#test model on twitter\n",
    "######## Classify the list of live tweets\n",
    "\n",
    "def classify(skiresort, clf):\n",
    "    \n",
    "    #get live tweets for skiresort entered\n",
    "    live_tweets = get_tweets(skiresort)\n",
    "\n",
    "    #convert to an array\n",
    "    X = vect.transform(live_tweets['tweet'].values)\n",
    "\n",
    "    #assign labels for 0/1\n",
    "    label = {0: 'negative', 1: 'positive'}\n",
    "\n",
    "    #make sentiment prediction for each tweet and add to df to print later\n",
    "    live_tweets['sentiment prediction'] = clf.predict(X)\n",
    "    live_tweets['probability'] = [max(i) for i in clf.predict_proba(X)]\n",
    "\n",
    "    #return the mean probability of prediction (take max value)\n",
    "    prediction_result = clf.predict_proba(X)\n",
    "    prediction_result_meanvals = [np.mean(prediction_result[:,0]),\\\n",
    "                                  np.mean(prediction_result[:,1])]\n",
    "    proba = np.max(prediction_result_meanvals)\n",
    "    y_pred = prediction_result_meanvals.index(proba)\n",
    "    return label[y_pred], proba, live_tweets"
   ]
  },
  {
   "cell_type": "code",
   "execution_count": 118,
   "id": "e5a4c134-391d-4cb4-b317-ce96d4a30b22",
   "metadata": {},
   "outputs": [],
   "source": [
    "######## Get live tweets using twitter api\n",
    "def _get_client():\n",
    "    #client and token should be hidden\n",
    "    return tweepy.Client(bearer_token='')\n",
    "\n",
    "def get_tweets(skiresort):\n",
    "    query = f'{skiresort} has:images lang:en -is:retweet'\n",
    "    tweets = _get_client().search_recent_tweets(query=query, \\\n",
    "             tweet_fields=['context_annotations', 'created_at'], max_results=10)\n",
    "    live_data = []\n",
    "    for tweet in tweets.data:\n",
    "        #print('text', tweet.text, ' \\n ', 'created',tweet.created_at)\n",
    "        live_data.append((tweet.text, tweet.created_at))\n",
    "        \n",
    "    return pd.DataFrame(live_data, columns=['tweet', 'created'])"
   ]
  },
  {
   "cell_type": "code",
   "execution_count": 123,
   "id": "02da9e1a-2dc3-47a5-885a-927bcf81ae00",
   "metadata": {},
   "outputs": [
    {
     "name": "stdout",
     "output_type": "stream",
     "text": [
      "positive\n",
      "0.6098229018312917\n"
     ]
    },
    {
     "data": {
      "text/html": [
       "<div>\n",
       "<style scoped>\n",
       "    .dataframe tbody tr th:only-of-type {\n",
       "        vertical-align: middle;\n",
       "    }\n",
       "\n",
       "    .dataframe tbody tr th {\n",
       "        vertical-align: top;\n",
       "    }\n",
       "\n",
       "    .dataframe thead th {\n",
       "        text-align: right;\n",
       "    }\n",
       "</style>\n",
       "<table border=\"1\" class=\"dataframe\">\n",
       "  <thead>\n",
       "    <tr style=\"text-align: right;\">\n",
       "      <th></th>\n",
       "      <th>tweet</th>\n",
       "      <th>created</th>\n",
       "      <th>sentiment prediction</th>\n",
       "      <th>probability</th>\n",
       "    </tr>\n",
       "  </thead>\n",
       "  <tbody>\n",
       "    <tr>\n",
       "      <th>0</th>\n",
       "      <td>Verbier in #Switzerland is named the World's B...</td>\n",
       "      <td>2022-01-18 12:15:01+00:00</td>\n",
       "      <td>1</td>\n",
       "      <td>0.832967</td>\n",
       "    </tr>\n",
       "    <tr>\n",
       "      <th>1</th>\n",
       "      <td>Alice Michel shredding the mountain waves at V...</td>\n",
       "      <td>2022-01-18 11:57:57+00:00</td>\n",
       "      <td>1</td>\n",
       "      <td>0.642169</td>\n",
       "    </tr>\n",
       "    <tr>\n",
       "      <th>2</th>\n",
       "      <td>@ohreallytruly @Resister_1776 @lisapodcasts @b...</td>\n",
       "      <td>2022-01-18 09:36:56+00:00</td>\n",
       "      <td>1</td>\n",
       "      <td>0.555941</td>\n",
       "    </tr>\n",
       "    <tr>\n",
       "      <th>3</th>\n",
       "      <td>@cornes_nicole We'll always have Verbier. X ht...</td>\n",
       "      <td>2022-01-18 09:30:29+00:00</td>\n",
       "      <td>1</td>\n",
       "      <td>0.656413</td>\n",
       "    </tr>\n",
       "    <tr>\n",
       "      <th>4</th>\n",
       "      <td>Check out our website https://t.co/0ObG5pNQNX ...</td>\n",
       "      <td>2022-01-18 07:37:00+00:00</td>\n",
       "      <td>1</td>\n",
       "      <td>0.507262</td>\n",
       "    </tr>\n",
       "  </tbody>\n",
       "</table>\n",
       "</div>"
      ],
      "text/plain": [
       "                                               tweet  \\\n",
       "0  Verbier in #Switzerland is named the World's B...   \n",
       "1  Alice Michel shredding the mountain waves at V...   \n",
       "2  @ohreallytruly @Resister_1776 @lisapodcasts @b...   \n",
       "3  @cornes_nicole We'll always have Verbier. X ht...   \n",
       "4  Check out our website https://t.co/0ObG5pNQNX ...   \n",
       "\n",
       "                    created  sentiment prediction  probability  \n",
       "0 2022-01-18 12:15:01+00:00                     1     0.832967  \n",
       "1 2022-01-18 11:57:57+00:00                     1     0.642169  \n",
       "2 2022-01-18 09:36:56+00:00                     1     0.555941  \n",
       "3 2022-01-18 09:30:29+00:00                     1     0.656413  \n",
       "4 2022-01-18 07:37:00+00:00                     1     0.507262  "
      ]
     },
     "execution_count": 123,
     "metadata": {},
     "output_type": "execute_result"
    }
   ],
   "source": [
    "a,b,c = classify('verbier', clf2)\n",
    "print(a)\n",
    "print(b)\n",
    "c.head()"
   ]
  },
  {
   "cell_type": "code",
   "execution_count": 113,
   "id": "8d249a47-3445-4563-ab56-e0a990d6d699",
   "metadata": {},
   "outputs": [
    {
     "name": "stdout",
     "output_type": "stream",
     "text": [
      "1 0.6098229018312917\n",
      "[1 1 1 1 1 1 1 1 1 1]\n",
      "[[0.16703268 0.83296732]\n",
      " [0.35783142 0.64216858]\n",
      " [0.44405927 0.55594073]\n",
      " [0.34358685 0.65641315]\n",
      " [0.49273772 0.50726228]\n",
      " [0.42652214 0.57347786]\n",
      " [0.3870116  0.6129884 ]\n",
      " [0.42840131 0.57159869]\n",
      " [0.42806584 0.57193416]\n",
      " [0.42652214 0.57347786]]\n",
      "[0.3901770981687082, 0.6098229018312917]\n"
     ]
    },
    {
     "data": {
      "text/html": [
       "<div>\n",
       "<style scoped>\n",
       "    .dataframe tbody tr th:only-of-type {\n",
       "        vertical-align: middle;\n",
       "    }\n",
       "\n",
       "    .dataframe tbody tr th {\n",
       "        vertical-align: top;\n",
       "    }\n",
       "\n",
       "    .dataframe thead th {\n",
       "        text-align: right;\n",
       "    }\n",
       "</style>\n",
       "<table border=\"1\" class=\"dataframe\">\n",
       "  <thead>\n",
       "    <tr style=\"text-align: right;\">\n",
       "      <th></th>\n",
       "      <th>tweet</th>\n",
       "      <th>created</th>\n",
       "      <th>sentiment prediction</th>\n",
       "      <th>probability</th>\n",
       "    </tr>\n",
       "  </thead>\n",
       "  <tbody>\n",
       "    <tr>\n",
       "      <th>0</th>\n",
       "      <td>Verbier in #Switzerland is named the World's B...</td>\n",
       "      <td>2022-01-18 12:15:01+00:00</td>\n",
       "      <td>1</td>\n",
       "      <td>0.832967</td>\n",
       "    </tr>\n",
       "    <tr>\n",
       "      <th>1</th>\n",
       "      <td>Alice Michel shredding the mountain waves at V...</td>\n",
       "      <td>2022-01-18 11:57:57+00:00</td>\n",
       "      <td>1</td>\n",
       "      <td>0.642169</td>\n",
       "    </tr>\n",
       "    <tr>\n",
       "      <th>2</th>\n",
       "      <td>@ohreallytruly @Resister_1776 @lisapodcasts @b...</td>\n",
       "      <td>2022-01-18 09:36:56+00:00</td>\n",
       "      <td>1</td>\n",
       "      <td>0.555941</td>\n",
       "    </tr>\n",
       "    <tr>\n",
       "      <th>3</th>\n",
       "      <td>@cornes_nicole We'll always have Verbier. X ht...</td>\n",
       "      <td>2022-01-18 09:30:29+00:00</td>\n",
       "      <td>1</td>\n",
       "      <td>0.656413</td>\n",
       "    </tr>\n",
       "    <tr>\n",
       "      <th>4</th>\n",
       "      <td>Check out our website https://t.co/0ObG5pNQNX ...</td>\n",
       "      <td>2022-01-18 07:37:00+00:00</td>\n",
       "      <td>1</td>\n",
       "      <td>0.507262</td>\n",
       "    </tr>\n",
       "    <tr>\n",
       "      <th>5</th>\n",
       "      <td>A Sustainable Swiss Chalet That’s Modern Yet C...</td>\n",
       "      <td>2022-01-17 19:21:10+00:00</td>\n",
       "      <td>1</td>\n",
       "      <td>0.573478</td>\n",
       "    </tr>\n",
       "    <tr>\n",
       "      <th>6</th>\n",
       "      <td>A Sustainable Swiss Chalet That’s Modern Yet C...</td>\n",
       "      <td>2022-01-17 19:07:39+00:00</td>\n",
       "      <td>1</td>\n",
       "      <td>0.612988</td>\n",
       "    </tr>\n",
       "    <tr>\n",
       "      <th>7</th>\n",
       "      <td>A Sustainable Swiss Chalet That’s Modern Yet C...</td>\n",
       "      <td>2022-01-17 18:31:48+00:00</td>\n",
       "      <td>1</td>\n",
       "      <td>0.571599</td>\n",
       "    </tr>\n",
       "    <tr>\n",
       "      <th>8</th>\n",
       "      <td>https://t.co/8GhgJPVmih A Sustainable Swiss Ch...</td>\n",
       "      <td>2022-01-17 18:12:50+00:00</td>\n",
       "      <td>1</td>\n",
       "      <td>0.571934</td>\n",
       "    </tr>\n",
       "    <tr>\n",
       "      <th>9</th>\n",
       "      <td>A Sustainable Swiss Chalet That’s Modern Yet C...</td>\n",
       "      <td>2022-01-17 18:06:35+00:00</td>\n",
       "      <td>1</td>\n",
       "      <td>0.573478</td>\n",
       "    </tr>\n",
       "  </tbody>\n",
       "</table>\n",
       "</div>"
      ],
      "text/plain": [
       "                                               tweet  \\\n",
       "0  Verbier in #Switzerland is named the World's B...   \n",
       "1  Alice Michel shredding the mountain waves at V...   \n",
       "2  @ohreallytruly @Resister_1776 @lisapodcasts @b...   \n",
       "3  @cornes_nicole We'll always have Verbier. X ht...   \n",
       "4  Check out our website https://t.co/0ObG5pNQNX ...   \n",
       "5  A Sustainable Swiss Chalet That’s Modern Yet C...   \n",
       "6  A Sustainable Swiss Chalet That’s Modern Yet C...   \n",
       "7  A Sustainable Swiss Chalet That’s Modern Yet C...   \n",
       "8  https://t.co/8GhgJPVmih A Sustainable Swiss Ch...   \n",
       "9  A Sustainable Swiss Chalet That’s Modern Yet C...   \n",
       "\n",
       "                    created  sentiment prediction  probability  \n",
       "0 2022-01-18 12:15:01+00:00                     1     0.832967  \n",
       "1 2022-01-18 11:57:57+00:00                     1     0.642169  \n",
       "2 2022-01-18 09:36:56+00:00                     1     0.555941  \n",
       "3 2022-01-18 09:30:29+00:00                     1     0.656413  \n",
       "4 2022-01-18 07:37:00+00:00                     1     0.507262  \n",
       "5 2022-01-17 19:21:10+00:00                     1     0.573478  \n",
       "6 2022-01-17 19:07:39+00:00                     1     0.612988  \n",
       "7 2022-01-17 18:31:48+00:00                     1     0.571599  \n",
       "8 2022-01-17 18:12:50+00:00                     1     0.571934  \n",
       "9 2022-01-17 18:06:35+00:00                     1     0.573478  "
      ]
     },
     "execution_count": 113,
     "metadata": {},
     "output_type": "execute_result"
    }
   ],
   "source": [
    "print(y_pred, proba)\n",
    "print(clf.predict(X))\n",
    "print(clf.predict_proba(X))\n",
    "print(prediction_result_meanvals)\n",
    "live_tweets"
   ]
  },
  {
   "cell_type": "code",
   "execution_count": 108,
   "id": "3ebc40e9-fe1a-4993-a5fa-8a3fbf337f2b",
   "metadata": {},
   "outputs": [
    {
     "name": "stdout",
     "output_type": "stream",
     "text": [
      "[1 1 1 1 1 1 1 1 1 1]\n",
      "[[0.16703268 0.83296732]\n",
      " [0.35783142 0.64216858]\n",
      " [0.44405927 0.55594073]\n",
      " [0.34358685 0.65641315]\n",
      " [0.49273772 0.50726228]\n",
      " [0.42652214 0.57347786]\n",
      " [0.3870116  0.6129884 ]\n",
      " [0.42840131 0.57159869]\n",
      " [0.42806584 0.57193416]\n",
      " [0.42652214 0.57347786]]\n"
     ]
    },
    {
     "data": {
      "text/plain": [
       "[0.8329673163888086,\n",
       " 0.6421685757493234,\n",
       " 0.555940733691984,\n",
       " 0.6564131509245278,\n",
       " 0.5072622764776225,\n",
       " 0.5734778574964404,\n",
       " 0.6129883974048228,\n",
       " 0.5715986916146272,\n",
       " 0.5719341610683206,\n",
       " 0.5734778574964404]"
      ]
     },
     "execution_count": 108,
     "metadata": {},
     "output_type": "execute_result"
    }
   ],
   "source": [
    "print(clf.predict(X))\n",
    "vals = clf.predict_proba(X)\n",
    "print(vals)\n",
    "[max(i) for i in vals]"
   ]
  },
  {
   "cell_type": "code",
   "execution_count": 100,
   "id": "e973d5d1-ea8b-4674-ab69-5d5571597767",
   "metadata": {},
   "outputs": [
    {
     "name": "stdout",
     "output_type": "stream",
     "text": [
      "0.6098229018312917 1\n"
     ]
    },
    {
     "data": {
      "text/html": [
       "<div>\n",
       "<style scoped>\n",
       "    .dataframe tbody tr th:only-of-type {\n",
       "        vertical-align: middle;\n",
       "    }\n",
       "\n",
       "    .dataframe tbody tr th {\n",
       "        vertical-align: top;\n",
       "    }\n",
       "\n",
       "    .dataframe thead th {\n",
       "        text-align: right;\n",
       "    }\n",
       "</style>\n",
       "<table border=\"1\" class=\"dataframe\">\n",
       "  <thead>\n",
       "    <tr style=\"text-align: right;\">\n",
       "      <th></th>\n",
       "      <th>tweet</th>\n",
       "      <th>created</th>\n",
       "      <th>sentiment prediction</th>\n",
       "      <th>probability</th>\n",
       "    </tr>\n",
       "  </thead>\n",
       "  <tbody>\n",
       "    <tr>\n",
       "      <th>0</th>\n",
       "      <td>Verbier in #Switzerland is named the World's B...</td>\n",
       "      <td>2022-01-18 12:15:01+00:00</td>\n",
       "      <td>1</td>\n",
       "      <td>0.832967</td>\n",
       "    </tr>\n",
       "    <tr>\n",
       "      <th>1</th>\n",
       "      <td>Alice Michel shredding the mountain waves at V...</td>\n",
       "      <td>2022-01-18 11:57:57+00:00</td>\n",
       "      <td>1</td>\n",
       "      <td>0.832967</td>\n",
       "    </tr>\n",
       "    <tr>\n",
       "      <th>2</th>\n",
       "      <td>@ohreallytruly @Resister_1776 @lisapodcasts @b...</td>\n",
       "      <td>2022-01-18 09:36:56+00:00</td>\n",
       "      <td>1</td>\n",
       "      <td>0.832967</td>\n",
       "    </tr>\n",
       "    <tr>\n",
       "      <th>3</th>\n",
       "      <td>@cornes_nicole We'll always have Verbier. X ht...</td>\n",
       "      <td>2022-01-18 09:30:29+00:00</td>\n",
       "      <td>1</td>\n",
       "      <td>0.832967</td>\n",
       "    </tr>\n",
       "    <tr>\n",
       "      <th>4</th>\n",
       "      <td>Check out our website https://t.co/0ObG5pNQNX ...</td>\n",
       "      <td>2022-01-18 07:37:00+00:00</td>\n",
       "      <td>1</td>\n",
       "      <td>0.832967</td>\n",
       "    </tr>\n",
       "    <tr>\n",
       "      <th>5</th>\n",
       "      <td>A Sustainable Swiss Chalet That’s Modern Yet C...</td>\n",
       "      <td>2022-01-17 19:21:10+00:00</td>\n",
       "      <td>1</td>\n",
       "      <td>0.832967</td>\n",
       "    </tr>\n",
       "    <tr>\n",
       "      <th>6</th>\n",
       "      <td>A Sustainable Swiss Chalet That’s Modern Yet C...</td>\n",
       "      <td>2022-01-17 19:07:39+00:00</td>\n",
       "      <td>1</td>\n",
       "      <td>0.832967</td>\n",
       "    </tr>\n",
       "    <tr>\n",
       "      <th>7</th>\n",
       "      <td>A Sustainable Swiss Chalet That’s Modern Yet C...</td>\n",
       "      <td>2022-01-17 18:31:48+00:00</td>\n",
       "      <td>1</td>\n",
       "      <td>0.832967</td>\n",
       "    </tr>\n",
       "    <tr>\n",
       "      <th>8</th>\n",
       "      <td>https://t.co/8GhgJPVmih A Sustainable Swiss Ch...</td>\n",
       "      <td>2022-01-17 18:12:50+00:00</td>\n",
       "      <td>1</td>\n",
       "      <td>0.832967</td>\n",
       "    </tr>\n",
       "    <tr>\n",
       "      <th>9</th>\n",
       "      <td>A Sustainable Swiss Chalet That’s Modern Yet C...</td>\n",
       "      <td>2022-01-17 18:06:35+00:00</td>\n",
       "      <td>1</td>\n",
       "      <td>0.832967</td>\n",
       "    </tr>\n",
       "  </tbody>\n",
       "</table>\n",
       "</div>"
      ],
      "text/plain": [
       "                                               tweet  \\\n",
       "0  Verbier in #Switzerland is named the World's B...   \n",
       "1  Alice Michel shredding the mountain waves at V...   \n",
       "2  @ohreallytruly @Resister_1776 @lisapodcasts @b...   \n",
       "3  @cornes_nicole We'll always have Verbier. X ht...   \n",
       "4  Check out our website https://t.co/0ObG5pNQNX ...   \n",
       "5  A Sustainable Swiss Chalet That’s Modern Yet C...   \n",
       "6  A Sustainable Swiss Chalet That’s Modern Yet C...   \n",
       "7  A Sustainable Swiss Chalet That’s Modern Yet C...   \n",
       "8  https://t.co/8GhgJPVmih A Sustainable Swiss Ch...   \n",
       "9  A Sustainable Swiss Chalet That’s Modern Yet C...   \n",
       "\n",
       "                    created  sentiment prediction  probability  \n",
       "0 2022-01-18 12:15:01+00:00                     1     0.832967  \n",
       "1 2022-01-18 11:57:57+00:00                     1     0.832967  \n",
       "2 2022-01-18 09:36:56+00:00                     1     0.832967  \n",
       "3 2022-01-18 09:30:29+00:00                     1     0.832967  \n",
       "4 2022-01-18 07:37:00+00:00                     1     0.832967  \n",
       "5 2022-01-17 19:21:10+00:00                     1     0.832967  \n",
       "6 2022-01-17 19:07:39+00:00                     1     0.832967  \n",
       "7 2022-01-17 18:31:48+00:00                     1     0.832967  \n",
       "8 2022-01-17 18:12:50+00:00                     1     0.832967  \n",
       "9 2022-01-17 18:06:35+00:00                     1     0.832967  "
      ]
     },
     "execution_count": 100,
     "metadata": {},
     "output_type": "execute_result"
    }
   ],
   "source": [
    "print(proba, y_pred)\n",
    "live_tweets"
   ]
  },
  {
   "cell_type": "code",
   "execution_count": 86,
   "id": "a1ff9ce2-f5ce-4cc2-90f3-c17cd4172e58",
   "metadata": {},
   "outputs": [
    {
     "name": "stdout",
     "output_type": "stream",
     "text": [
      "[[0.44405927 0.55594073]\n",
      " [0.34358685 0.65641315]\n",
      " [0.49273772 0.50726228]\n",
      " [0.42652214 0.57347786]\n",
      " [0.3870116  0.6129884 ]\n",
      " [0.42840131 0.57159869]\n",
      " [0.42806584 0.57193416]\n",
      " [0.42652214 0.57347786]\n",
      " [0.48899765 0.51100235]\n",
      " [0.36077374 0.63922626]]\n"
     ]
    }
   ],
   "source": [
    "label, proba, live_tweets = classify('verbier',clf2)"
   ]
  },
  {
   "cell_type": "code",
   "execution_count": 83,
   "id": "e8dafc5a-1f65-454e-8e16-fd4d263f8d9f",
   "metadata": {},
   "outputs": [
    {
     "name": "stdout",
     "output_type": "stream",
     "text": [
      "positive 0.5773321731514809\n"
     ]
    },
    {
     "data": {
      "text/html": [
       "<div>\n",
       "<style scoped>\n",
       "    .dataframe tbody tr th:only-of-type {\n",
       "        vertical-align: middle;\n",
       "    }\n",
       "\n",
       "    .dataframe tbody tr th {\n",
       "        vertical-align: top;\n",
       "    }\n",
       "\n",
       "    .dataframe thead th {\n",
       "        text-align: right;\n",
       "    }\n",
       "</style>\n",
       "<table border=\"1\" class=\"dataframe\">\n",
       "  <thead>\n",
       "    <tr style=\"text-align: right;\">\n",
       "      <th></th>\n",
       "      <th>tweet</th>\n",
       "      <th>created</th>\n",
       "      <th>sentiment prediction</th>\n",
       "    </tr>\n",
       "  </thead>\n",
       "  <tbody>\n",
       "    <tr>\n",
       "      <th>0</th>\n",
       "      <td>@ohreallytruly @Resister_1776 @lisapodcasts @b...</td>\n",
       "      <td>2022-01-18 09:36:56+00:00</td>\n",
       "      <td>1</td>\n",
       "    </tr>\n",
       "    <tr>\n",
       "      <th>1</th>\n",
       "      <td>@cornes_nicole We'll always have Verbier. X ht...</td>\n",
       "      <td>2022-01-18 09:30:29+00:00</td>\n",
       "      <td>1</td>\n",
       "    </tr>\n",
       "    <tr>\n",
       "      <th>2</th>\n",
       "      <td>Check out our website https://t.co/0ObG5pNQNX ...</td>\n",
       "      <td>2022-01-18 07:37:00+00:00</td>\n",
       "      <td>1</td>\n",
       "    </tr>\n",
       "    <tr>\n",
       "      <th>3</th>\n",
       "      <td>A Sustainable Swiss Chalet That’s Modern Yet C...</td>\n",
       "      <td>2022-01-17 19:21:10+00:00</td>\n",
       "      <td>1</td>\n",
       "    </tr>\n",
       "    <tr>\n",
       "      <th>4</th>\n",
       "      <td>A Sustainable Swiss Chalet That’s Modern Yet C...</td>\n",
       "      <td>2022-01-17 19:07:39+00:00</td>\n",
       "      <td>1</td>\n",
       "    </tr>\n",
       "    <tr>\n",
       "      <th>5</th>\n",
       "      <td>A Sustainable Swiss Chalet That’s Modern Yet C...</td>\n",
       "      <td>2022-01-17 18:31:48+00:00</td>\n",
       "      <td>1</td>\n",
       "    </tr>\n",
       "    <tr>\n",
       "      <th>6</th>\n",
       "      <td>https://t.co/8GhgJPVmih A Sustainable Swiss Ch...</td>\n",
       "      <td>2022-01-17 18:12:50+00:00</td>\n",
       "      <td>1</td>\n",
       "    </tr>\n",
       "    <tr>\n",
       "      <th>7</th>\n",
       "      <td>A Sustainable Swiss Chalet That’s Modern Yet C...</td>\n",
       "      <td>2022-01-17 18:06:35+00:00</td>\n",
       "      <td>1</td>\n",
       "    </tr>\n",
       "    <tr>\n",
       "      <th>8</th>\n",
       "      <td>A Sustainable Swiss Chalet That’s Modern Yet C...</td>\n",
       "      <td>2022-01-17 18:04:07+00:00</td>\n",
       "      <td>1</td>\n",
       "    </tr>\n",
       "    <tr>\n",
       "      <th>9</th>\n",
       "      <td>Violinist on the slopes today in #Verbier #LaV...</td>\n",
       "      <td>2022-01-17 16:29:51+00:00</td>\n",
       "      <td>1</td>\n",
       "    </tr>\n",
       "  </tbody>\n",
       "</table>\n",
       "</div>"
      ],
      "text/plain": [
       "                                               tweet  \\\n",
       "0  @ohreallytruly @Resister_1776 @lisapodcasts @b...   \n",
       "1  @cornes_nicole We'll always have Verbier. X ht...   \n",
       "2  Check out our website https://t.co/0ObG5pNQNX ...   \n",
       "3  A Sustainable Swiss Chalet That’s Modern Yet C...   \n",
       "4  A Sustainable Swiss Chalet That’s Modern Yet C...   \n",
       "5  A Sustainable Swiss Chalet That’s Modern Yet C...   \n",
       "6  https://t.co/8GhgJPVmih A Sustainable Swiss Ch...   \n",
       "7  A Sustainable Swiss Chalet That’s Modern Yet C...   \n",
       "8  A Sustainable Swiss Chalet That’s Modern Yet C...   \n",
       "9  Violinist on the slopes today in #Verbier #LaV...   \n",
       "\n",
       "                    created  sentiment prediction  \n",
       "0 2022-01-18 09:36:56+00:00                     1  \n",
       "1 2022-01-18 09:30:29+00:00                     1  \n",
       "2 2022-01-18 07:37:00+00:00                     1  \n",
       "3 2022-01-17 19:21:10+00:00                     1  \n",
       "4 2022-01-17 19:07:39+00:00                     1  \n",
       "5 2022-01-17 18:31:48+00:00                     1  \n",
       "6 2022-01-17 18:12:50+00:00                     1  \n",
       "7 2022-01-17 18:06:35+00:00                     1  \n",
       "8 2022-01-17 18:04:07+00:00                     1  \n",
       "9 2022-01-17 16:29:51+00:00                     1  "
      ]
     },
     "execution_count": 90,
     "metadata": {},
     "output_type": "execute_result"
    }
   ],
   "source": [
    "print('label', label, 'proba', proba)\n",
    "live_tweets"
   ]
  },
  {
   "cell_type": "code",
   "execution_count": 73,
   "id": "9a07f640-b471-4f7c-872d-fd64998846f6",
   "metadata": {},
   "outputs": [
    {
     "data": {
      "text/html": [
       "<div>\n",
       "<style scoped>\n",
       "    .dataframe tbody tr th:only-of-type {\n",
       "        vertical-align: middle;\n",
       "    }\n",
       "\n",
       "    .dataframe tbody tr th {\n",
       "        vertical-align: top;\n",
       "    }\n",
       "\n",
       "    .dataframe thead th {\n",
       "        text-align: right;\n",
       "    }\n",
       "</style>\n",
       "<table border=\"1\" class=\"dataframe\">\n",
       "  <thead>\n",
       "    <tr style=\"text-align: right;\">\n",
       "      <th></th>\n",
       "      <th>tweet</th>\n",
       "      <th>created</th>\n",
       "    </tr>\n",
       "  </thead>\n",
       "  <tbody>\n",
       "    <tr>\n",
       "      <th>0</th>\n",
       "      <td>@ohreallytruly @Resister_1776 @lisapodcasts @b...</td>\n",
       "      <td>2022-01-18 09:36:56+00:00</td>\n",
       "    </tr>\n",
       "    <tr>\n",
       "      <th>1</th>\n",
       "      <td>@cornes_nicole We'll always have Verbier. X ht...</td>\n",
       "      <td>2022-01-18 09:30:29+00:00</td>\n",
       "    </tr>\n",
       "    <tr>\n",
       "      <th>2</th>\n",
       "      <td>Check out our website https://t.co/0ObG5pNQNX ...</td>\n",
       "      <td>2022-01-18 07:37:00+00:00</td>\n",
       "    </tr>\n",
       "    <tr>\n",
       "      <th>3</th>\n",
       "      <td>A Sustainable Swiss Chalet That’s Modern Yet C...</td>\n",
       "      <td>2022-01-17 19:21:10+00:00</td>\n",
       "    </tr>\n",
       "    <tr>\n",
       "      <th>4</th>\n",
       "      <td>A Sustainable Swiss Chalet That’s Modern Yet C...</td>\n",
       "      <td>2022-01-17 19:07:39+00:00</td>\n",
       "    </tr>\n",
       "    <tr>\n",
       "      <th>5</th>\n",
       "      <td>A Sustainable Swiss Chalet That’s Modern Yet C...</td>\n",
       "      <td>2022-01-17 18:31:48+00:00</td>\n",
       "    </tr>\n",
       "    <tr>\n",
       "      <th>6</th>\n",
       "      <td>https://t.co/8GhgJPVmih A Sustainable Swiss Ch...</td>\n",
       "      <td>2022-01-17 18:12:50+00:00</td>\n",
       "    </tr>\n",
       "    <tr>\n",
       "      <th>7</th>\n",
       "      <td>A Sustainable Swiss Chalet That’s Modern Yet C...</td>\n",
       "      <td>2022-01-17 18:06:35+00:00</td>\n",
       "    </tr>\n",
       "    <tr>\n",
       "      <th>8</th>\n",
       "      <td>A Sustainable Swiss Chalet That’s Modern Yet C...</td>\n",
       "      <td>2022-01-17 18:04:07+00:00</td>\n",
       "    </tr>\n",
       "    <tr>\n",
       "      <th>9</th>\n",
       "      <td>Violinist on the slopes today in #Verbier #LaV...</td>\n",
       "      <td>2022-01-17 16:29:51+00:00</td>\n",
       "    </tr>\n",
       "  </tbody>\n",
       "</table>\n",
       "</div>"
      ],
      "text/plain": [
       "                                               tweet                   created\n",
       "0  @ohreallytruly @Resister_1776 @lisapodcasts @b... 2022-01-18 09:36:56+00:00\n",
       "1  @cornes_nicole We'll always have Verbier. X ht... 2022-01-18 09:30:29+00:00\n",
       "2  Check out our website https://t.co/0ObG5pNQNX ... 2022-01-18 07:37:00+00:00\n",
       "3  A Sustainable Swiss Chalet That’s Modern Yet C... 2022-01-17 19:21:10+00:00\n",
       "4  A Sustainable Swiss Chalet That’s Modern Yet C... 2022-01-17 19:07:39+00:00\n",
       "5  A Sustainable Swiss Chalet That’s Modern Yet C... 2022-01-17 18:31:48+00:00\n",
       "6  https://t.co/8GhgJPVmih A Sustainable Swiss Ch... 2022-01-17 18:12:50+00:00\n",
       "7  A Sustainable Swiss Chalet That’s Modern Yet C... 2022-01-17 18:06:35+00:00\n",
       "8  A Sustainable Swiss Chalet That’s Modern Yet C... 2022-01-17 18:04:07+00:00\n",
       "9  Violinist on the slopes today in #Verbier #LaV... 2022-01-17 16:29:51+00:00"
      ]
     },
     "execution_count": 73,
     "metadata": {},
     "output_type": "execute_result"
    }
   ],
   "source": [
    "get_tweets('verbier')"
   ]
  },
  {
   "cell_type": "code",
   "execution_count": 28,
   "id": "5f1f08cc-281c-47ab-b76a-1eb77aa0fd18",
   "metadata": {},
   "outputs": [],
   "source": [
    "import pickle\n",
    "import re\n",
    "import os\n",
    "\n",
    "\n",
    "clf2 = pickle.load(open(os.path.join('ski_resort_webapp', 'pkl_objects', 'classifier.pkl'), 'rb'))"
   ]
  },
  {
   "cell_type": "code",
   "execution_count": 74,
   "id": "ed79cbbf-5c50-4f58-9dc1-86f5ba36cb31",
   "metadata": {},
   "outputs": [
    {
     "name": "stdout",
     "output_type": "stream",
     "text": [
      "[1 1 1 1 1 1 1 1 1 1]\n",
      "[[0.44405927 0.55594073]\n",
      " [0.34358685 0.65641315]\n",
      " [0.49273772 0.50726228]\n",
      " [0.42652214 0.57347786]\n",
      " [0.3870116  0.6129884 ]\n",
      " [0.42840131 0.57159869]\n",
      " [0.42806584 0.57193416]\n",
      " [0.42652214 0.57347786]\n",
      " [0.48899765 0.51100235]\n",
      " [0.36077374 0.63922626]]\n",
      "  (0, 52833)\t-0.22941573387056174\n",
      "  (0, 246455)\t-0.22941573387056174\n",
      "  (0, 318163)\t-0.22941573387056174\n",
      "  (0, 519290)\t0.22941573387056174\n",
      "  (0, 824797)\t-0.22941573387056174\n",
      "  (0, 1001239)\t0.22941573387056174\n",
      "  (0, 1061207)\t0.22941573387056174\n",
      "  (0, 1104880)\t-0.22941573387056174\n",
      "  (0, 1202116)\t0.22941573387056174\n",
      "  (0, 1238013)\t0.4588314677411235\n",
      "  (0, 1240366)\t-0.22941573387056174\n",
      "  (0, 1462582)\t-0.22941573387056174\n",
      "  (0, 1743017)\t-0.22941573387056174\n",
      "  (0, 1779114)\t-0.22941573387056174\n",
      "  (0, 1810592)\t-0.22941573387056174\n",
      "  (0, 1893891)\t0.22941573387056174   (0, 519290)\t0.3779644730092272\n",
      "  (0, 945236)\t-0.3779644730092272\n",
      "  (0, 1104880)\t-0.3779644730092272\n",
      "  (0, 1240366)\t-0.3779644730092272\n",
      "  (0, 1684928)\t-0.3779644730092272\n",
      "  (0, 1743643)\t0.3779644730092272\n",
      "  (0, 1779114)\t-0.3779644730092272   (0, 470943)\t0.2672612419124244\n",
      "  (0, 519290)\t0.5345224838248488\n",
      "  (0, 560157)\t0.2672612419124244\n",
      "  (0, 677415)\t-0.2672612419124244\n",
      "  (0, 772548)\t-0.2672612419124244\n",
      "  (0, 1240366)\t-0.5345224838248488\n",
      "  (0, 1779114)\t-0.2672612419124244\n",
      "  (0, 1930015)\t0.2672612419124244\n"
     ]
    },
    {
     "data": {
      "text/plain": [
       "('positive', 0.5773321731514809)"
      ]
     },
     "execution_count": 74,
     "metadata": {},
     "output_type": "execute_result"
    }
   ],
   "source": [
    "classify('verbier',clf2)"
   ]
  },
  {
   "cell_type": "code",
   "execution_count": 30,
   "id": "741a0540-8cfc-434b-a6ae-79267e5b2226",
   "metadata": {},
   "outputs": [],
   "source": [
    "skiresort = 'verbier'\n",
    "clf = clf2\n",
    "\n",
    "#get live tweets for skiresort entered\n",
    "live_tweets = get_tweets(skiresort)\n",
    "\n",
    "#convert to an array\n",
    "X = vect.transform(live_tweets['tweet'].values)\n",
    "\n",
    "#assign labels for 0/1\n",
    "label = {0: 'negative', 1: 'positive'}\n",
    "\n"
   ]
  },
  {
   "cell_type": "code",
   "execution_count": 32,
   "id": "a8acc153-9b21-4424-8452-3a1f5466b392",
   "metadata": {},
   "outputs": [
    {
     "data": {
      "text/plain": [
       "array([1, 1, 1, 1, 1, 1, 1, 1, 1, 1])"
      ]
     },
     "execution_count": 32,
     "metadata": {},
     "output_type": "execute_result"
    }
   ],
   "source": [
    "clf.predict(X)"
   ]
  },
  {
   "cell_type": "code",
   "execution_count": 35,
   "id": "9b7e7c08-d003-44bb-adbc-7ddaf5110858",
   "metadata": {},
   "outputs": [],
   "source": [
    "prediction_result = clf.predict_proba(X)"
   ]
  },
  {
   "cell_type": "code",
   "execution_count": 40,
   "id": "1c8664ee-46e1-4437-bf53-2b87817a21ad",
   "metadata": {},
   "outputs": [
    {
     "data": {
      "text/plain": [
       "array([[0.44405927, 0.55594073],\n",
       "       [0.34358685, 0.65641315],\n",
       "       [0.49273772, 0.50726228],\n",
       "       [0.42652214, 0.57347786],\n",
       "       [0.3870116 , 0.6129884 ],\n",
       "       [0.42840131, 0.57159869],\n",
       "       [0.42806584, 0.57193416],\n",
       "       [0.42652214, 0.57347786],\n",
       "       [0.48899765, 0.51100235],\n",
       "       [0.36077374, 0.63922626]])"
      ]
     },
     "execution_count": 40,
     "metadata": {},
     "output_type": "execute_result"
    }
   ],
   "source": [
    "prediction_result"
   ]
  },
  {
   "cell_type": "code",
   "execution_count": 95,
   "id": "dcb15803-ddc8-4538-96e4-13c1386b050c",
   "metadata": {},
   "outputs": [
    {
     "name": "stdout",
     "output_type": "stream",
     "text": [
      "[0.4223735949244718, 0.5776264050755281]\n",
      "0.5776264050755281\n"
     ]
    }
   ],
   "source": [
    "prediction_result_meanvals = [np.mean(prediction_result[:,0]),\\\n",
    "                              np.mean(prediction_result[:,1])]\n",
    "\n",
    "print(prediction_result_meanvals)\n",
    "\n",
    "print(np.max(prediction_result_meanvals))"
   ]
  },
  {
   "cell_type": "code",
   "execution_count": 67,
   "id": "ac96a6a5-211b-4957-b092-9b431d2e666d",
   "metadata": {},
   "outputs": [
    {
     "data": {
      "text/plain": [
       "[0.4226678268485191, 0.5773321731514809]"
      ]
     },
     "execution_count": 67,
     "metadata": {},
     "output_type": "execute_result"
    }
   ],
   "source": [
    "prediction_result_meanvals"
   ]
  },
  {
   "cell_type": "code",
   "execution_count": 70,
   "id": "ce523d1c-b971-46a2-92a7-76a51c78f0e7",
   "metadata": {},
   "outputs": [
    {
     "name": "stdout",
     "output_type": "stream",
     "text": [
      "0.5773321731514809\n",
      "1\n"
     ]
    }
   ],
   "source": [
    "max_value = max(prediction_result_meanvals)\n",
    "max_index = prediction_result_meanvals.index(max_value)\n",
    "print(max_value)\n",
    "print(max_index)"
   ]
  },
  {
   "cell_type": "code",
   "execution_count": null,
   "id": "fae5a424-d3fb-4b83-8325-aa16082b8a5e",
   "metadata": {},
   "outputs": [],
   "source": []
  }
 ],
 "metadata": {
  "kernelspec": {
   "display_name": "py37",
   "language": "python",
   "name": "py37"
  },
  "language_info": {
   "codemirror_mode": {
    "name": "ipython",
    "version": 3
   },
   "file_extension": ".py",
   "mimetype": "text/x-python",
   "name": "python",
   "nbconvert_exporter": "python",
   "pygments_lexer": "ipython3",
   "version": "3.7.7"
  }
 },
 "nbformat": 4,
 "nbformat_minor": 5
}
